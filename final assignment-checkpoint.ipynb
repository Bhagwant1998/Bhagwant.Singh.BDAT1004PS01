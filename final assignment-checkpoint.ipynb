{
 "cells": [
  {
   "cell_type": "code",
   "execution_count": 1,
   "id": "ea1d50f0",
   "metadata": {},
   "outputs": [
    {
     "name": "stdout",
     "output_type": "stream",
     "text": [
      "<class 'int'>\n",
      "<class 'float'>\n",
      "<class 'bool'>\n",
      "<class 'str'>\n",
      "<class 'int'>\n",
      "<class 'str'>\n",
      "<class 'str'>\n",
      "<class 'float'>\n",
      "<class 'int'>\n",
      "<class 'set'>\n",
      "<class 'float'>\n"
     ]
    }
   ],
   "source": [
    "#Question 1\n",
    "#What data type is each of the following\n",
    "\n",
    "a=5\n",
    "b=5.0\n",
    "c=5 > 1\n",
    "d='5'\n",
    "e=5 * 2\n",
    "f='5' * 2\n",
    "g='5' + '2'\n",
    "h=5 / 2\n",
    "i=5 % 2\n",
    "j={5, 2, 1}\n",
    "k=5 == 3\n",
    "k=3.14\n",
    "\n",
    "print(type(a))\n",
    "print(type(b))\n",
    "print(type(c))\n",
    "print(type(d))\n",
    "print(type(e))\n",
    "print(type(f))\n",
    "print(type(g))\n",
    "print(type(h))\n",
    "print(type(i))\n",
    "print(type(j))\n",
    "print(type(k))"
   ]
  },
  {
   "cell_type": "code",
   "execution_count": 2,
   "id": "e39d4d8d",
   "metadata": {},
   "outputs": [
    {
     "data": {
      "text/plain": [
       "34"
      ]
     },
     "execution_count": 2,
     "metadata": {},
     "output_type": "execute_result"
    }
   ],
   "source": [
    "#Question 2\n",
    "# a Write (and evaluate) python expressions that answer these questions:\n",
    "x= 'Supercalifragilisticexpialidocious'\n",
    "\n",
    "len(x)\n"
   ]
  },
  {
   "cell_type": "code",
   "execution_count": 3,
   "id": "f1d260a5",
   "metadata": {},
   "outputs": [
    {
     "data": {
      "text/plain": [
       "True"
      ]
     },
     "execution_count": 3,
     "metadata": {},
     "output_type": "execute_result"
    }
   ],
   "source": [
    "#Question 2\n",
    "# b Does 'Supercalifragilisticexpialidocious' contain 'ice' as a substring? \n",
    "\n",
    "x= 'Supercalifragilisticexpialidocious'\n",
    "'ice' in x"
   ]
  },
  {
   "cell_type": "code",
   "execution_count": 4,
   "id": "b69b5b9e",
   "metadata": {},
   "outputs": [
    {
     "name": "stdout",
     "output_type": "stream",
     "text": [
      "Supercalifragilisticexpialidocious\n"
     ]
    }
   ],
   "source": [
    "#Question 2\n",
    "# c Which of the following words is the longest:\n",
    "#Supercalifragilisticexpialidocious, Honorificabilitudinitatibus, or\n",
    "#Bababadalgharaghtakamminarronnkonn?\n",
    "\n",
    "array=['Supercalifragilisticexpialidocious', 'Honorificabilitudinitatibus','Bababadalgharaghtakamminarronnkonn'\n",
    "]\n",
    "max_len = -1 \n",
    "for element in array:\n",
    "    if len(element) > max_len:\n",
    "        max_len = len(element)\n",
    "        result = element\n",
    "        print(result)\n",
    "    "
   ]
  },
  {
   "cell_type": "code",
   "execution_count": 5,
   "id": "25a54f40",
   "metadata": {},
   "outputs": [
    {
     "name": "stdout",
     "output_type": "stream",
     "text": [
      "['Bartok', 'Bellini', 'Berlioz', 'Bernstein', 'Borodin', 'Brian', 'Buxtehude']\n",
      "first composer: Bartok\n",
      "last composer: Buxtehude\n"
     ]
    }
   ],
   "source": [
    "#Question 2\n",
    "# d Which composer comes first in the dictionary: 'Berlioz', 'Borodin', 'Brian',\n",
    "#'Bartok', 'Bellini', 'Buxtehude', 'Bernstein'. Which one comes last?\n",
    "\n",
    "composer= ['Berlioz', 'Borodin', 'Brian',\n",
    "'Bartok', 'Bellini', 'Buxtehude', 'Bernstein']\n",
    "sorted_composer=sorted(composer)\n",
    "print(sorted_composer)\n",
    "print('first composer:',sorted_composer[0])\n",
    "print('last composer:',sorted_composer[-1])\n"
   ]
  },
  {
   "cell_type": "code",
   "execution_count": 6,
   "id": "8d65133a",
   "metadata": {},
   "outputs": [
    {
     "name": "stdout",
     "output_type": "stream",
     "text": [
      "The Area of a triangle is: 1.7320508075688772\n"
     ]
    }
   ],
   "source": [
    "#Question 3\n",
    "#Implement function triangleArea(a,b,c) that takes as input the lengths of the 3\n",
    "#sides of a triangle and returns the area of the triangle. By Heron's formula, the area\n",
    "#of a triangle with side lengths a, b, and c is s(s - a)(s -b)(s -c), where s = (a+b+c)/2\n",
    "\n",
    "import math\n",
    "def triangleArea(a, b, c,):\n",
    "    side_lenghts = a + b + c\n",
    "    s = (a + b + c) / 2\n",
    "    Area = math.sqrt((s*(s-a)*(s-b)*(s-c)))\n",
    "    print(\"The Area of a triangle is:\",Area)\n",
    "triangleArea(2, 2, 2)\n"
   ]
  },
  {
   "cell_type": "code",
   "execution_count": 7,
   "id": "41ce06fb",
   "metadata": {},
   "outputs": [
    {
     "name": "stdout",
     "output_type": "stream",
     "text": [
      "The Even elements are: [42, 56, 32]\n",
      "The Odd elements are: [25, 47]\n"
     ]
    }
   ],
   "source": [
    "#Question 4\n",
    "#Write a program in python to separate odd and even integers in separate arrays. Go to the editor\n",
    "\n",
    "data = [25,47,42,56,32]\n",
    "\n",
    "def Split(data):\n",
    "    even = []\n",
    "    odd = []\n",
    "    for i in data:\n",
    "        if (i % 2 == 0):\n",
    "            even.append(i)\n",
    "        else:\n",
    "            odd.append(i)\n",
    "    print(\"The Even elements are:\", even)\n",
    "    print(\"The Odd elements are:\", odd)\n",
    "  \n",
    "Split(data)\n"
   ]
  },
  {
   "cell_type": "code",
   "execution_count": 8,
   "id": "45285a08",
   "metadata": {},
   "outputs": [
    {
     "name": "stdout",
     "output_type": "stream",
     "text": [
      "False\n",
      "False\n"
     ]
    }
   ],
   "source": [
    "#Question 5\n",
    "#a. Write a function inside(x,y,x1,y1,x2,y2) that returns True or False depending on whether the point (x,y) lies in the rectangle with lower left\n",
    "#corner (x1,y1) and upper right corner (x2,y2).\n",
    "\n",
    "def inside(x,y,x1, y1, x2,y2) :\n",
    "    if (x > x1 and x < x2 and\n",
    "        y > y1 and y < y2) :\n",
    "        print ('True')\n",
    "    else :\n",
    "        print ('False')\n",
    " \n",
    "if __name__ == \"__main__\" :\n",
    " \n",
    " \n",
    "    if inside(1,1,0,0,-2,-3) :\n",
    "        print(\"True\")\n",
    "    else :\n",
    "        print(\"False\")"
   ]
  },
  {
   "cell_type": "code",
   "execution_count": 9,
   "id": "bc1460d1",
   "metadata": {},
   "outputs": [
    {
     "name": "stdout",
     "output_type": "stream",
     "text": [
      "False\n"
     ]
    }
   ],
   "source": [
    "#Question 5\n",
    "#b. Use function inside() from part a. to write an expression that tests whether\n",
    "#the point (1,1) lies in both of the following rectangles: one with lower left\n",
    "#corner (0.3, 0.5) and upper right corner (1.1, 0.7) and the other with lower\n",
    "#left corner (0.5, 0.2) and upper right corner (1.1, 2).\n",
    "\n",
    "def inside(x,y,x1, y1, x2,\n",
    "              y2) :\n",
    "    if (x > x1 and x < x2 and\n",
    "        y > y1 and y < y2) :\n",
    "        return True\n",
    "    else :\n",
    "        return False\n",
    " \n",
    "if __name__ == \"__main__\" :\n",
    " \n",
    "    x1 , y1 =0.3, 0.5,\n",
    "    x2 , y2 = 1.1, 0.7,\n",
    " \n",
    "   \n",
    "    x, y = 1, 1\n",
    "    if inside(x,y,x1, y1, x2,y2) :\n",
    "        print(\"True\")\n",
    "    else :\n",
    "        print(\"False\")"
   ]
  },
  {
   "cell_type": "code",
   "execution_count": 10,
   "id": "f380520a",
   "metadata": {},
   "outputs": [
    {
     "name": "stdout",
     "output_type": "stream",
     "text": [
      "True\n"
     ]
    }
   ],
   "source": [
    "#Question 5\n",
    "#b. Use function inside() from part a. to write an expression that tests whether\n",
    "#the point (1,1) lies in both of the following rectangles: one with lower left\n",
    "#corner (0.3, 0.5) and upper right corner (1.1, 0.7) and the other with lower\n",
    "#left corner (0.5, 0.2) and upper right corner (1.1, 2).\n",
    "\n",
    "#for second points\n",
    "\n",
    "def inside(x,y,x1, y1, x2,\n",
    "              y2) :\n",
    "    if (x > x1 and x < x2 and\n",
    "        y > y1 and y < y2) :\n",
    "        return True\n",
    "    else :\n",
    "        return False\n",
    " \n",
    "if __name__ == \"__main__\" :\n",
    " \n",
    "    x1 , y1 =0.5,0.2,\n",
    "    x2 , y2 = 1.1, 2,\n",
    " \n",
    "   \n",
    "    x, y = 1, 1\n",
    "    if inside(x,y,x1, y1, x2,y2) :\n",
    "        print(\"True\")\n",
    "    else :\n",
    "        print(\"False\")"
   ]
  },
  {
   "cell_type": "code",
   "execution_count": 11,
   "id": "6606de61",
   "metadata": {},
   "outputs": [
    {
     "name": "stdout",
     "output_type": "stream",
     "text": [
      "amazonway\n"
     ]
    }
   ],
   "source": [
    "#Question 6\n",
    "\n",
    "pigLatin = \"Amazon\"\n",
    "wordList = pigLatin.lower().split(\" \")\n",
    "vowels = ['a', 'e', 'i', 'o', 'u']\n",
    "pigLatin = []\n",
    "eachWord = []\n",
    "for word in wordList:\n",
    "    if word[0] in 'aeiou': \n",
    "        pigLatin.append(word + 'way')\n",
    "    else:\n",
    "        for letter in word:\n",
    "            if letter in 'aeiou':\n",
    "                pigLatin.append(word[word.index(letter):] + word[:word.index(letter)] +'ay')\n",
    "                break\n",
    "\n",
    "\n",
    "print(\" \".join(pigLatin))"
   ]
  },
  {
   "cell_type": "code",
   "execution_count": 12,
   "id": "0b4ec660",
   "metadata": {},
   "outputs": [
    {
     "name": "stdout",
     "output_type": "stream",
     "text": [
      "andhay\n"
     ]
    }
   ],
   "source": [
    "#Question 6\n",
    "\n",
    "pigLatin = \"HAND\"\n",
    "wordList = pigLatin.lower().split(\" \")\n",
    "vowels = ['a', 'e', 'i', 'o', 'u']\n",
    "pigLatin = []\n",
    "eachWord = []\n",
    "for word in wordList:\n",
    "    if word[0] in 'aeiou': \n",
    "        pigLatin.append(word + 'way')\n",
    "    else:\n",
    "        for letter in word:\n",
    "            if letter in 'aeiou':\n",
    "                pigLatin.append(word[word.index(letter):] + word[:word.index(letter)] +'ay')\n",
    "                break\n",
    "\n",
    "\n",
    "print(\" \".join(pigLatin))"
   ]
  },
  {
   "cell_type": "code",
   "execution_count": 13,
   "id": "3ea79b18",
   "metadata": {},
   "outputs": [
    {
     "ename": "TypeError",
     "evalue": "unsupported operand type(s) for +: 'int' and 'str'",
     "output_type": "error",
     "traceback": [
      "\u001b[1;31m---------------------------------------------------------------------------\u001b[0m",
      "\u001b[1;31mTypeError\u001b[0m                                 Traceback (most recent call last)",
      "Input \u001b[1;32mIn [13]\u001b[0m, in \u001b[0;36m<cell line: 7>\u001b[1;34m()\u001b[0m\n\u001b[0;32m      5\u001b[0m item1\u001b[38;5;241m=\u001b[39m\u001b[38;5;241m6\u001b[39m\n\u001b[0;32m      6\u001b[0m item2\u001b[38;5;241m=\u001b[39m\u001b[38;5;124m'\u001b[39m\u001b[38;5;124ma\u001b[39m\u001b[38;5;124m'\u001b[39m\n\u001b[1;32m----> 7\u001b[0m \u001b[38;5;28msum\u001b[39m\u001b[38;5;241m=\u001b[39m\u001b[43mitem1\u001b[49m\u001b[38;5;241;43m+\u001b[39;49m\u001b[43mitem2\u001b[49m\n\u001b[0;32m      8\u001b[0m \u001b[38;5;28mprint\u001b[39m(\u001b[38;5;28msum\u001b[39m)\n",
      "\u001b[1;31mTypeError\u001b[0m: unsupported operand type(s) for +: 'int' and 'str'"
     ]
    }
   ],
   "source": [
    "#Question 9\n",
    "#Each of the following will cause an exception (an error). Identify what type of exception each will cause\n",
    "#Trying to add incompatible variables, as in adding 6 + ‘a’\n",
    "\n",
    "item1=6\n",
    "item2='a'\n",
    "sum=item1+item2\n",
    "print(sum)"
   ]
  },
  {
   "cell_type": "code",
   "execution_count": 14,
   "id": "33c29b5d",
   "metadata": {},
   "outputs": [
    {
     "ename": "IndexError",
     "evalue": "list index out of range",
     "output_type": "error",
     "traceback": [
      "\u001b[1;31m---------------------------------------------------------------------------\u001b[0m",
      "\u001b[1;31mIndexError\u001b[0m                                Traceback (most recent call last)",
      "Input \u001b[1;32mIn [14]\u001b[0m, in \u001b[0;36m<cell line: 6>\u001b[1;34m()\u001b[0m\n\u001b[0;32m      1\u001b[0m \u001b[38;5;66;03m#Question 9\u001b[39;00m\n\u001b[0;32m      2\u001b[0m \u001b[38;5;66;03m#Each of the following will cause an exception (an error). Identify what type of exception each will cause\u001b[39;00m\n\u001b[0;32m      3\u001b[0m \u001b[38;5;66;03m#Referring to the 12th item of a list that has only 10 items\u001b[39;00m\n\u001b[0;32m      5\u001b[0m data\u001b[38;5;241m=\u001b[39m[\u001b[38;5;124m'\u001b[39m\u001b[38;5;124ma\u001b[39m\u001b[38;5;124m'\u001b[39m,\u001b[38;5;124m'\u001b[39m\u001b[38;5;124mb\u001b[39m\u001b[38;5;124m'\u001b[39m,\u001b[38;5;124m'\u001b[39m\u001b[38;5;124mc\u001b[39m\u001b[38;5;124m'\u001b[39m,\u001b[38;5;124m'\u001b[39m\u001b[38;5;124md\u001b[39m\u001b[38;5;124m'\u001b[39m,\u001b[38;5;124m'\u001b[39m\u001b[38;5;124me\u001b[39m\u001b[38;5;124m'\u001b[39m,\u001b[38;5;124m'\u001b[39m\u001b[38;5;124mf\u001b[39m\u001b[38;5;124m'\u001b[39m,\u001b[38;5;124m'\u001b[39m\u001b[38;5;124mg\u001b[39m\u001b[38;5;124m'\u001b[39m,\u001b[38;5;124m'\u001b[39m\u001b[38;5;124mh\u001b[39m\u001b[38;5;124m'\u001b[39m,\u001b[38;5;124m'\u001b[39m\u001b[38;5;124mi\u001b[39m\u001b[38;5;124m'\u001b[39m,\u001b[38;5;124m'\u001b[39m\u001b[38;5;124mj\u001b[39m\u001b[38;5;124m'\u001b[39m]\n\u001b[1;32m----> 6\u001b[0m \u001b[38;5;28mprint\u001b[39m(\u001b[43mdata\u001b[49m\u001b[43m[\u001b[49m\u001b[38;5;241;43m12\u001b[39;49m\u001b[43m]\u001b[49m)\n",
      "\u001b[1;31mIndexError\u001b[0m: list index out of range"
     ]
    }
   ],
   "source": [
    "#Question 9\n",
    "#Each of the following will cause an exception (an error). Identify what type of exception each will cause\n",
    "#Referring to the 12th item of a list that has only 10 items\n",
    "\n",
    "data=['a','b','c','d','e','f','g','h','i','j']\n",
    "print(data[12])"
   ]
  },
  {
   "cell_type": "code",
   "execution_count": 15,
   "id": "833a24e8",
   "metadata": {},
   "outputs": [
    {
     "ename": "ValueError",
     "evalue": "factorial() not defined for negative values",
     "output_type": "error",
     "traceback": [
      "\u001b[1;31m---------------------------------------------------------------------------\u001b[0m",
      "\u001b[1;31mValueError\u001b[0m                                Traceback (most recent call last)",
      "Input \u001b[1;32mIn [15]\u001b[0m, in \u001b[0;36m<cell line: 6>\u001b[1;34m()\u001b[0m\n\u001b[0;32m      1\u001b[0m \u001b[38;5;66;03m#Question 9\u001b[39;00m\n\u001b[0;32m      2\u001b[0m \u001b[38;5;66;03m#Each of the following will cause an exception (an error). Identify what type of exception each will cause\u001b[39;00m\n\u001b[0;32m      3\u001b[0m \u001b[38;5;66;03m#Using a value that is out of range for a function’s input, such as calling math.sqrt(-1.0)\u001b[39;00m\n\u001b[0;32m      5\u001b[0m \u001b[38;5;28;01mimport\u001b[39;00m \u001b[38;5;21;01mmath\u001b[39;00m\n\u001b[1;32m----> 6\u001b[0m \u001b[38;5;28mprint\u001b[39m (\u001b[43mmath\u001b[49m\u001b[38;5;241;43m.\u001b[39;49m\u001b[43mfactorial\u001b[49m\u001b[43m(\u001b[49m\u001b[38;5;241;43m-\u001b[39;49m\u001b[38;5;241;43m5\u001b[39;49m\u001b[43m)\u001b[49m)\n",
      "\u001b[1;31mValueError\u001b[0m: factorial() not defined for negative values"
     ]
    }
   ],
   "source": [
    "#Question 9\n",
    "#Each of the following will cause an exception (an error). Identify what type of exception each will cause\n",
    "#Using a value that is out of range for a function’s input, such as calling math.sqrt(-1.0)\n",
    "\n",
    "import math\n",
    "print (math.factorial(-5))"
   ]
  },
  {
   "cell_type": "code",
   "execution_count": 16,
   "id": "00b76770",
   "metadata": {},
   "outputs": [
    {
     "ename": "NameError",
     "evalue": "name 'ad' is not defined",
     "output_type": "error",
     "traceback": [
      "\u001b[1;31m---------------------------------------------------------------------------\u001b[0m",
      "\u001b[1;31mNameError\u001b[0m                                 Traceback (most recent call last)",
      "Input \u001b[1;32mIn [16]\u001b[0m, in \u001b[0;36m<cell line: 8>\u001b[1;34m()\u001b[0m\n\u001b[0;32m      6\u001b[0m num2\u001b[38;5;241m=\u001b[39m\u001b[38;5;241m3\u001b[39m\n\u001b[0;32m      7\u001b[0m add\u001b[38;5;241m=\u001b[39mnum1\u001b[38;5;241m+\u001b[39mnum2\n\u001b[1;32m----> 8\u001b[0m \u001b[38;5;28mprint\u001b[39m(\u001b[43mad\u001b[49m)\n",
      "\u001b[1;31mNameError\u001b[0m: name 'ad' is not defined"
     ]
    }
   ],
   "source": [
    "#Question 9\n",
    "#Each of the following will cause an exception (an error). Identify what type of exception each will cause\n",
    "#Using an undeclared variable, such as print(x) when x has not been defined \n",
    "\n",
    "num1=1\n",
    "num2=3\n",
    "add=num1+num2\n",
    "print(ad)"
   ]
  },
  {
   "cell_type": "code",
   "execution_count": 17,
   "id": "626208f1",
   "metadata": {},
   "outputs": [
    {
     "ename": "PermissionError",
     "evalue": "[Errno 13] Permission denied: 'D:\\\\temp\\\\test.txt'",
     "output_type": "error",
     "traceback": [
      "\u001b[1;31m---------------------------------------------------------------------------\u001b[0m",
      "\u001b[1;31mPermissionError\u001b[0m                           Traceback (most recent call last)",
      "Input \u001b[1;32mIn [17]\u001b[0m, in \u001b[0;36m<cell line: 6>\u001b[1;34m()\u001b[0m\n\u001b[0;32m      1\u001b[0m \u001b[38;5;66;03m#Question 9\u001b[39;00m\n\u001b[0;32m      2\u001b[0m \u001b[38;5;66;03m#Each of the following will cause an exception (an error). Identify what type of exception each will cause\u001b[39;00m\n\u001b[0;32m      3\u001b[0m \u001b[38;5;66;03m#Trying to open a file that does not exist, such as mistyping the file name or looking in the wrong directory. \u001b[39;00m\n\u001b[0;32m      5\u001b[0m file \u001b[38;5;241m=\u001b[39m \u001b[38;5;124m'\u001b[39m\u001b[38;5;124mD:\u001b[39m\u001b[38;5;130;01m\\\\\u001b[39;00m\u001b[38;5;124mtemp\u001b[39m\u001b[38;5;130;01m\\\\\u001b[39;00m\u001b[38;5;124mtest.txt\u001b[39m\u001b[38;5;124m'\u001b[39m\n\u001b[1;32m----> 6\u001b[0m openFile \u001b[38;5;241m=\u001b[39m \u001b[38;5;28;43mopen\u001b[39;49m\u001b[43m(\u001b[49m\u001b[43mfile\u001b[49m\u001b[43m,\u001b[49m\u001b[43m \u001b[49m\u001b[38;5;124;43m'\u001b[39;49m\u001b[38;5;124;43mw\u001b[39;49m\u001b[38;5;124;43m'\u001b[39;49m\u001b[43m \u001b[49m\u001b[43m)\u001b[49m\n\u001b[0;32m      7\u001b[0m \u001b[38;5;28mprint\u001b[39m(openFile)\n",
      "\u001b[1;31mPermissionError\u001b[0m: [Errno 13] Permission denied: 'D:\\\\temp\\\\test.txt'"
     ]
    }
   ],
   "source": [
    "#Question 9\n",
    "#Each of the following will cause an exception (an error). Identify what type of exception each will cause\n",
    "#Trying to open a file that does not exist, such as mistyping the file name or looking in the wrong directory. \n",
    "\n",
    "file = 'D:\\\\temp\\\\test.txt'\n",
    "openFile = open(file, 'w' )\n",
    "print(openFile)"
   ]
  },
  {
   "cell_type": "code",
   "execution_count": null,
   "id": "dee53c7a",
   "metadata": {},
   "outputs": [],
   "source": []
  }
 ],
 "metadata": {
  "kernelspec": {
   "display_name": "Python 3 (ipykernel)",
   "language": "python",
   "name": "python3"
  },
  "language_info": {
   "codemirror_mode": {
    "name": "ipython",
    "version": 3
   },
   "file_extension": ".py",
   "mimetype": "text/x-python",
   "name": "python",
   "nbconvert_exporter": "python",
   "pygments_lexer": "ipython3",
   "version": "3.9.12"
  }
 },
 "nbformat": 4,
 "nbformat_minor": 5
}
